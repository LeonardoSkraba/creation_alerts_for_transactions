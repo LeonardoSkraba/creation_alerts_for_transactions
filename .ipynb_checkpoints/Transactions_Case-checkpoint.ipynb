{
 "cells": [
  {
   "cell_type": "markdown",
   "metadata": {
    "id": "SU8RrtkCKpJ4"
   },
   "source": [
    "# Introduction Transactions 1"
   ]
  },
  {
   "cell_type": "markdown",
   "metadata": {
    "id": "uzAoAFR8Iwzs"
   },
   "source": [
    "\n",
    "**First, an SQL query was executed to manipulate the data in a way that would make it easier to work with. PIVOT was used to pivot the variables 'approved,' 'failed,' 'denied,' 'reversed,' 'refunded,' 'processing,' 'backend_reversed' as columns alongside 'time'.**"
   ]
  },
  {
   "cell_type": "code",
   "execution_count": 1,
   "metadata": {
    "id": "wMuVp0cq_Uq0"
   },
   "outputs": [
    {
     "name": "stdout",
     "output_type": "stream",
     "text": [
      "Requirement already satisfied: twilio in c:\\users\\usuario\\anaconda3\\lib\\site-packages (8.9.1)\n",
      "Requirement already satisfied: aiohttp>=3.8.4 in c:\\users\\usuario\\anaconda3\\lib\\site-packages (from twilio) (3.8.5)\n",
      "Requirement already satisfied: aiohttp-retry>=2.8.3 in c:\\users\\usuario\\anaconda3\\lib\\site-packages (from twilio) (2.8.3)\n",
      "Requirement already satisfied: PyJWT<3.0.0,>=2.0.0 in c:\\users\\usuario\\anaconda3\\lib\\site-packages (from twilio) (2.4.0)\n",
      "Requirement already satisfied: requests>=2.0.0 in c:\\users\\usuario\\anaconda3\\lib\\site-packages (from twilio) (2.28.1)\n",
      "Requirement already satisfied: async-timeout<5.0,>=4.0.0a3 in c:\\users\\usuario\\anaconda3\\lib\\site-packages (from aiohttp>=3.8.4->twilio) (4.0.3)\n",
      "Requirement already satisfied: attrs>=17.3.0 in c:\\users\\usuario\\anaconda3\\lib\\site-packages (from aiohttp>=3.8.4->twilio) (21.4.0)\n",
      "Requirement already satisfied: frozenlist>=1.1.1 in c:\\users\\usuario\\anaconda3\\lib\\site-packages (from aiohttp>=3.8.4->twilio) (1.4.0)\n",
      "Requirement already satisfied: aiosignal>=1.1.2 in c:\\users\\usuario\\anaconda3\\lib\\site-packages (from aiohttp>=3.8.4->twilio) (1.3.1)\n",
      "Requirement already satisfied: charset-normalizer<4.0,>=2.0 in c:\\users\\usuario\\anaconda3\\lib\\site-packages (from aiohttp>=3.8.4->twilio) (2.0.4)\n",
      "Requirement already satisfied: yarl<2.0,>=1.0 in c:\\users\\usuario\\anaconda3\\lib\\site-packages (from aiohttp>=3.8.4->twilio) (1.9.2)\n",
      "Requirement already satisfied: multidict<7.0,>=4.5 in c:\\users\\usuario\\anaconda3\\lib\\site-packages (from aiohttp>=3.8.4->twilio) (6.0.4)\n",
      "Requirement already satisfied: idna<4,>=2.5 in c:\\users\\usuario\\anaconda3\\lib\\site-packages (from requests>=2.0.0->twilio) (3.3)\n",
      "Requirement already satisfied: urllib3<1.27,>=1.21.1 in c:\\users\\usuario\\anaconda3\\lib\\site-packages (from requests>=2.0.0->twilio) (1.26.11)\n",
      "Requirement already satisfied: certifi>=2017.4.17 in c:\\users\\usuario\\anaconda3\\lib\\site-packages (from requests>=2.0.0->twilio) (2022.9.14)\n"
     ]
    }
   ],
   "source": [
    "# Imports and install\n",
    "!pip install twilio\n",
    "import matplotlib.pyplot as plt\n",
    "import numpy as np\n",
    "import pandas as pd\n",
    "import plotly.express as px\n",
    "from sklearn.linear_model import LinearRegression\n",
    "from sklearn.model_selection import train_test_split\n",
    "from sklearn.preprocessing import StandardScaler\n",
    "from twilio.rest import Client\n"
   ]
  },
  {
   "cell_type": "code",
   "execution_count": 6,
   "metadata": {
    "id": "vBBRN6KkAitG"
   },
   "outputs": [
    {
     "ename": "FileNotFoundError",
     "evalue": "[Errno 2] No such file or directory: 'creation_alerts_for_transactions/transactions_1_pivot.csv'",
     "output_type": "error",
     "traceback": [
      "\u001b[1;31m---------------------------------------------------------------------------\u001b[0m",
      "\u001b[1;31mFileNotFoundError\u001b[0m                         Traceback (most recent call last)",
      "\u001b[1;32m~\\AppData\\Local\\Temp\\ipykernel_16364\\1051566023.py\u001b[0m in \u001b[0;36m<module>\u001b[1;34m\u001b[0m\n\u001b[0;32m      1\u001b[0m \u001b[1;31m# Creating the dataframe\u001b[0m\u001b[1;33m\u001b[0m\u001b[1;33m\u001b[0m\u001b[0m\n\u001b[1;32m----> 2\u001b[1;33m \u001b[0mtransactions_1\u001b[0m \u001b[1;33m=\u001b[0m \u001b[0mpd\u001b[0m\u001b[1;33m.\u001b[0m\u001b[0mread_csv\u001b[0m\u001b[1;33m(\u001b[0m\u001b[1;34m\"creation_alerts_for_transactions/transactions_1_pivot.csv\"\u001b[0m\u001b[1;33m)\u001b[0m\u001b[1;33m\u001b[0m\u001b[1;33m\u001b[0m\u001b[0m\n\u001b[0m",
      "\u001b[1;32m~\\anaconda3\\lib\\site-packages\\pandas\\util\\_decorators.py\u001b[0m in \u001b[0;36mwrapper\u001b[1;34m(*args, **kwargs)\u001b[0m\n\u001b[0;32m    309\u001b[0m                     \u001b[0mstacklevel\u001b[0m\u001b[1;33m=\u001b[0m\u001b[0mstacklevel\u001b[0m\u001b[1;33m,\u001b[0m\u001b[1;33m\u001b[0m\u001b[1;33m\u001b[0m\u001b[0m\n\u001b[0;32m    310\u001b[0m                 )\n\u001b[1;32m--> 311\u001b[1;33m             \u001b[1;32mreturn\u001b[0m \u001b[0mfunc\u001b[0m\u001b[1;33m(\u001b[0m\u001b[1;33m*\u001b[0m\u001b[0margs\u001b[0m\u001b[1;33m,\u001b[0m \u001b[1;33m**\u001b[0m\u001b[0mkwargs\u001b[0m\u001b[1;33m)\u001b[0m\u001b[1;33m\u001b[0m\u001b[1;33m\u001b[0m\u001b[0m\n\u001b[0m\u001b[0;32m    312\u001b[0m \u001b[1;33m\u001b[0m\u001b[0m\n\u001b[0;32m    313\u001b[0m         \u001b[1;32mreturn\u001b[0m \u001b[0mwrapper\u001b[0m\u001b[1;33m\u001b[0m\u001b[1;33m\u001b[0m\u001b[0m\n",
      "\u001b[1;32m~\\anaconda3\\lib\\site-packages\\pandas\\io\\parsers\\readers.py\u001b[0m in \u001b[0;36mread_csv\u001b[1;34m(filepath_or_buffer, sep, delimiter, header, names, index_col, usecols, squeeze, prefix, mangle_dupe_cols, dtype, engine, converters, true_values, false_values, skipinitialspace, skiprows, skipfooter, nrows, na_values, keep_default_na, na_filter, verbose, skip_blank_lines, parse_dates, infer_datetime_format, keep_date_col, date_parser, dayfirst, cache_dates, iterator, chunksize, compression, thousands, decimal, lineterminator, quotechar, quoting, doublequote, escapechar, comment, encoding, encoding_errors, dialect, error_bad_lines, warn_bad_lines, on_bad_lines, delim_whitespace, low_memory, memory_map, float_precision, storage_options)\u001b[0m\n\u001b[0;32m    676\u001b[0m     \u001b[0mkwds\u001b[0m\u001b[1;33m.\u001b[0m\u001b[0mupdate\u001b[0m\u001b[1;33m(\u001b[0m\u001b[0mkwds_defaults\u001b[0m\u001b[1;33m)\u001b[0m\u001b[1;33m\u001b[0m\u001b[1;33m\u001b[0m\u001b[0m\n\u001b[0;32m    677\u001b[0m \u001b[1;33m\u001b[0m\u001b[0m\n\u001b[1;32m--> 678\u001b[1;33m     \u001b[1;32mreturn\u001b[0m \u001b[0m_read\u001b[0m\u001b[1;33m(\u001b[0m\u001b[0mfilepath_or_buffer\u001b[0m\u001b[1;33m,\u001b[0m \u001b[0mkwds\u001b[0m\u001b[1;33m)\u001b[0m\u001b[1;33m\u001b[0m\u001b[1;33m\u001b[0m\u001b[0m\n\u001b[0m\u001b[0;32m    679\u001b[0m \u001b[1;33m\u001b[0m\u001b[0m\n\u001b[0;32m    680\u001b[0m \u001b[1;33m\u001b[0m\u001b[0m\n",
      "\u001b[1;32m~\\anaconda3\\lib\\site-packages\\pandas\\io\\parsers\\readers.py\u001b[0m in \u001b[0;36m_read\u001b[1;34m(filepath_or_buffer, kwds)\u001b[0m\n\u001b[0;32m    573\u001b[0m \u001b[1;33m\u001b[0m\u001b[0m\n\u001b[0;32m    574\u001b[0m     \u001b[1;31m# Create the parser.\u001b[0m\u001b[1;33m\u001b[0m\u001b[1;33m\u001b[0m\u001b[0m\n\u001b[1;32m--> 575\u001b[1;33m     \u001b[0mparser\u001b[0m \u001b[1;33m=\u001b[0m \u001b[0mTextFileReader\u001b[0m\u001b[1;33m(\u001b[0m\u001b[0mfilepath_or_buffer\u001b[0m\u001b[1;33m,\u001b[0m \u001b[1;33m**\u001b[0m\u001b[0mkwds\u001b[0m\u001b[1;33m)\u001b[0m\u001b[1;33m\u001b[0m\u001b[1;33m\u001b[0m\u001b[0m\n\u001b[0m\u001b[0;32m    576\u001b[0m \u001b[1;33m\u001b[0m\u001b[0m\n\u001b[0;32m    577\u001b[0m     \u001b[1;32mif\u001b[0m \u001b[0mchunksize\u001b[0m \u001b[1;32mor\u001b[0m \u001b[0miterator\u001b[0m\u001b[1;33m:\u001b[0m\u001b[1;33m\u001b[0m\u001b[1;33m\u001b[0m\u001b[0m\n",
      "\u001b[1;32m~\\anaconda3\\lib\\site-packages\\pandas\\io\\parsers\\readers.py\u001b[0m in \u001b[0;36m__init__\u001b[1;34m(self, f, engine, **kwds)\u001b[0m\n\u001b[0;32m    930\u001b[0m \u001b[1;33m\u001b[0m\u001b[0m\n\u001b[0;32m    931\u001b[0m         \u001b[0mself\u001b[0m\u001b[1;33m.\u001b[0m\u001b[0mhandles\u001b[0m\u001b[1;33m:\u001b[0m \u001b[0mIOHandles\u001b[0m \u001b[1;33m|\u001b[0m \u001b[1;32mNone\u001b[0m \u001b[1;33m=\u001b[0m \u001b[1;32mNone\u001b[0m\u001b[1;33m\u001b[0m\u001b[1;33m\u001b[0m\u001b[0m\n\u001b[1;32m--> 932\u001b[1;33m         \u001b[0mself\u001b[0m\u001b[1;33m.\u001b[0m\u001b[0m_engine\u001b[0m \u001b[1;33m=\u001b[0m \u001b[0mself\u001b[0m\u001b[1;33m.\u001b[0m\u001b[0m_make_engine\u001b[0m\u001b[1;33m(\u001b[0m\u001b[0mf\u001b[0m\u001b[1;33m,\u001b[0m \u001b[0mself\u001b[0m\u001b[1;33m.\u001b[0m\u001b[0mengine\u001b[0m\u001b[1;33m)\u001b[0m\u001b[1;33m\u001b[0m\u001b[1;33m\u001b[0m\u001b[0m\n\u001b[0m\u001b[0;32m    933\u001b[0m \u001b[1;33m\u001b[0m\u001b[0m\n\u001b[0;32m    934\u001b[0m     \u001b[1;32mdef\u001b[0m \u001b[0mclose\u001b[0m\u001b[1;33m(\u001b[0m\u001b[0mself\u001b[0m\u001b[1;33m)\u001b[0m\u001b[1;33m:\u001b[0m\u001b[1;33m\u001b[0m\u001b[1;33m\u001b[0m\u001b[0m\n",
      "\u001b[1;32m~\\anaconda3\\lib\\site-packages\\pandas\\io\\parsers\\readers.py\u001b[0m in \u001b[0;36m_make_engine\u001b[1;34m(self, f, engine)\u001b[0m\n\u001b[0;32m   1214\u001b[0m             \u001b[1;31m# \"Union[str, PathLike[str], ReadCsvBuffer[bytes], ReadCsvBuffer[str]]\"\u001b[0m\u001b[1;33m\u001b[0m\u001b[1;33m\u001b[0m\u001b[0m\n\u001b[0;32m   1215\u001b[0m             \u001b[1;31m# , \"str\", \"bool\", \"Any\", \"Any\", \"Any\", \"Any\", \"Any\"\u001b[0m\u001b[1;33m\u001b[0m\u001b[1;33m\u001b[0m\u001b[0m\n\u001b[1;32m-> 1216\u001b[1;33m             self.handles = get_handle(  # type: ignore[call-overload]\n\u001b[0m\u001b[0;32m   1217\u001b[0m                 \u001b[0mf\u001b[0m\u001b[1;33m,\u001b[0m\u001b[1;33m\u001b[0m\u001b[1;33m\u001b[0m\u001b[0m\n\u001b[0;32m   1218\u001b[0m                 \u001b[0mmode\u001b[0m\u001b[1;33m,\u001b[0m\u001b[1;33m\u001b[0m\u001b[1;33m\u001b[0m\u001b[0m\n",
      "\u001b[1;32m~\\anaconda3\\lib\\site-packages\\pandas\\io\\common.py\u001b[0m in \u001b[0;36mget_handle\u001b[1;34m(path_or_buf, mode, encoding, compression, memory_map, is_text, errors, storage_options)\u001b[0m\n\u001b[0;32m    784\u001b[0m         \u001b[1;32mif\u001b[0m \u001b[0mioargs\u001b[0m\u001b[1;33m.\u001b[0m\u001b[0mencoding\u001b[0m \u001b[1;32mand\u001b[0m \u001b[1;34m\"b\"\u001b[0m \u001b[1;32mnot\u001b[0m \u001b[1;32min\u001b[0m \u001b[0mioargs\u001b[0m\u001b[1;33m.\u001b[0m\u001b[0mmode\u001b[0m\u001b[1;33m:\u001b[0m\u001b[1;33m\u001b[0m\u001b[1;33m\u001b[0m\u001b[0m\n\u001b[0;32m    785\u001b[0m             \u001b[1;31m# Encoding\u001b[0m\u001b[1;33m\u001b[0m\u001b[1;33m\u001b[0m\u001b[0m\n\u001b[1;32m--> 786\u001b[1;33m             handle = open(\n\u001b[0m\u001b[0;32m    787\u001b[0m                 \u001b[0mhandle\u001b[0m\u001b[1;33m,\u001b[0m\u001b[1;33m\u001b[0m\u001b[1;33m\u001b[0m\u001b[0m\n\u001b[0;32m    788\u001b[0m                 \u001b[0mioargs\u001b[0m\u001b[1;33m.\u001b[0m\u001b[0mmode\u001b[0m\u001b[1;33m,\u001b[0m\u001b[1;33m\u001b[0m\u001b[1;33m\u001b[0m\u001b[0m\n",
      "\u001b[1;31mFileNotFoundError\u001b[0m: [Errno 2] No such file or directory: 'creation_alerts_for_transactions/transactions_1_pivot.csv'"
     ]
    }
   ],
   "source": [
    "\n",
    "# Creating the dataframe\n",
    "transactions_1 = pd.read_csv(\"creation_alerts_for_transactions/transactions_1_pivot.csv\")"
   ]
  },
  {
   "cell_type": "code",
   "execution_count": null,
   "metadata": {
    "id": "zKtQTx56lL9F"
   },
   "outputs": [],
   "source": [
    "# Preview Transactions 1\n",
    "transactions_1.head(5)"
   ]
  },
  {
   "cell_type": "markdown",
   "metadata": {
    "id": "3aLqEoL7KmQJ"
   },
   "source": [
    "# Data Transformation Transactions 1"
   ]
  },
  {
   "cell_type": "markdown",
   "metadata": {
    "id": "JwbmtoOTSxDG"
   },
   "source": [
    "**Transforming null values ​into 0 to better manipulate the data**"
   ]
  },
  {
   "cell_type": "code",
   "execution_count": null,
   "metadata": {
    "id": "ZX1fY-pkKgc1"
   },
   "outputs": [],
   "source": [
    "# Replace all null values with 0\n",
    "transactions_1.fillna(0, inplace=True)"
   ]
  },
  {
   "cell_type": "code",
   "execution_count": null,
   "metadata": {
    "id": "U5e5t887lJQX"
   },
   "outputs": [],
   "source": [
    "# Preview Transactions 1\n",
    "transactions_1.head(5)"
   ]
  },
  {
   "cell_type": "markdown",
   "metadata": {
    "id": "rPKNhUN9RVtD"
   },
   "source": [
    "# Data Information Transactions 1"
   ]
  },
  {
   "cell_type": "code",
   "execution_count": null,
   "metadata": {
    "id": "YVKjSo1EBU2w"
   },
   "outputs": [],
   "source": [
    "# Transactions 1 infos\n",
    "transactions_1.info()"
   ]
  },
  {
   "cell_type": "code",
   "execution_count": null,
   "metadata": {
    "id": "Cfp5wUm2Wz1K"
   },
   "outputs": [],
   "source": [
    "# Transactions 1 describe\n",
    "transactions_1.describe()"
   ]
  },
  {
   "cell_type": "markdown",
   "metadata": {
    "id": "vFBpo1HjSJZT"
   },
   "source": [
    "# First Analyzes Transactions 1 (boxplots)"
   ]
  },
  {
   "cell_type": "markdown",
   "metadata": {
    "id": "FnhVrQrPT791"
   },
   "source": [
    "\n",
    "**Plotting the main variables for better understanding of the transactions 1 data**"
   ]
  },
  {
   "cell_type": "code",
   "execution_count": null,
   "metadata": {
    "id": "bwvpDtGjUe89"
   },
   "outputs": [],
   "source": [
    "# Create a boxplot using Plotly Express with 'failed' as the x-axis and hover data for 'failed'\n",
    "fig = px.box(transactions_1, x='failed', hover_data=['failed'])\n",
    "\n",
    "# Chart layout settings\n",
    "fig.update_layout(\n",
    "    title=\"Interactive Boxplot of failed transactions\",\n",
    "    yaxis_title=\"Values of failed\"\n",
    ")\n",
    "\n",
    "# Display the interactive chart\n",
    "fig.show()"
   ]
  },
  {
   "cell_type": "markdown",
   "metadata": {
    "id": "EvoVtOfwTVON"
   },
   "source": [
    "**Failed transactions 1 --> Upper fence = 0**\n"
   ]
  },
  {
   "cell_type": "code",
   "execution_count": null,
   "metadata": {
    "id": "QdHFGpIfRXNg"
   },
   "outputs": [],
   "source": [
    "# Create an interactive boxplot using Plotly Express with 'denied' as the x-axis and hover data for 'denied'\n",
    "fig = px.box(transactions_1, x='reversed', hover_data=['reversed'])\n",
    "\n",
    "# Chart layout settings\n",
    "fig.update_layout(\n",
    "    title=\"Interactive Boxplot of Reversed transactions\",\n",
    "    yaxis_title=\"Values of reversed\"\n",
    ")\n",
    "\n",
    "# Display the interactive chart\n",
    "fig.show()"
   ]
  },
  {
   "cell_type": "markdown",
   "metadata": {
    "id": "wXfqSXnVTmS5"
   },
   "source": [
    "**Reversed transactions --> Upper fence = 7**"
   ]
  },
  {
   "cell_type": "code",
   "execution_count": null,
   "metadata": {
    "id": "8Mue2HJpUqKl",
    "scrolled": false
   },
   "outputs": [],
   "source": [
    "# Create an interactive boxplot using Plotly Express with 'reversed' as the x-axis and hover data for 'reversed'\n",
    "fig = px.box(transactions_1, x='denied', hover_data=['denied'])\n",
    "\n",
    "# Chart layout settings\n",
    "fig.update_layout(\n",
    "    title=\"Interactive Boxplot of Denied Transactions\",\n",
    "    yaxis_title=\"Values of denied'\"\n",
    ")\n",
    "\n",
    "# Display the interactive chart\n",
    "fig.show()"
   ]
  },
  {
   "cell_type": "markdown",
   "metadata": {
    "id": "aWDJgEdPUnRw"
   },
   "source": [
    "**Reversed transactions --> Upper fence = 68**"
   ]
  },
  {
   "cell_type": "markdown",
   "metadata": {
    "id": "OPUKAbSrUuO5"
   },
   "source": [
    "# Preparing the models Transactions 1"
   ]
  },
  {
   "cell_type": "markdown",
   "metadata": {
    "id": "HIYtCBlIViKj"
   },
   "source": [
    "**Turning the time variable of the transaction_1 dataframe into dummies so that they stop being objects and have an influence on the application of the model and also scale other data**"
   ]
  },
  {
   "cell_type": "code",
   "execution_count": null,
   "metadata": {
    "id": "nm6ZSZwYeUa0"
   },
   "outputs": [],
   "source": [
    "#Preparing the data for the models\n",
    "\n",
    "# Get the categorical columns\n",
    "categorical_columns_failed  = ['time']\n",
    "# Convert the categorical columns to dummy variables\n",
    "general_transactions_model = pd.get_dummies(transactions_1, 'time')\n",
    "# Get the columns to scale\n",
    "columns_to_scale_failed  = [column for column in general_transactions_model.columns if column not in categorical_columns_failed]\n",
    "# Scale the data\n",
    "data_scaler_failed  = general_transactions_model[columns_to_scale_failed]\n",
    "scaler_failed = StandardScaler().fit(data_scaler_failed)"
   ]
  },
  {
   "cell_type": "markdown",
   "metadata": {
    "id": "zFY7dmzJWeuU"
   },
   "source": [
    "# Failed Transacitons Model (1)"
   ]
  },
  {
   "cell_type": "code",
   "execution_count": null,
   "metadata": {
    "id": "G5XsGa1JctXI"
   },
   "outputs": [],
   "source": [
    "failed_transactions_model = general_transactions_model.copy()\n",
    "\n",
    "# Split the data into train and test sets\n",
    "X_failed = failed_transactions_model.drop(columns=['failed'])\n",
    "y_failed = failed_transactions_model['failed']\n",
    "X_train, X_test, y_train, y_test = train_test_split(X_failed, y_failed, test_size=0.25, random_state=42)\n",
    "# Create the linear regression model\n",
    "model_failed = LinearRegression()\n",
    "# Fit the model to the training data\n",
    "model_failed.fit(X_train, y_train)\n"
   ]
  },
  {
   "cell_type": "code",
   "execution_count": null,
   "metadata": {
    "id": "KTfREp1alVo9"
   },
   "outputs": [],
   "source": [
    "# Make predictions on the test data\n",
    "y_failed_pred = model_failed.predict(X_failed)\n",
    "y_failed_pred\n"
   ]
  },
  {
   "cell_type": "code",
   "execution_count": null,
   "metadata": {
    "id": "td8IM2LlnG_m"
   },
   "outputs": [],
   "source": [
    "# Create a DataFrame of the predicted values\n",
    "df_failed_pred = pd.DataFrame({'failed_pred': y_failed_pred})\n",
    "df_failed_pred"
   ]
  },
  {
   "cell_type": "code",
   "execution_count": null,
   "metadata": {
    "id": "aURMxdsSD31-"
   },
   "outputs": [],
   "source": [
    "# Add the predicted values to the original DataFrame\n",
    "failed_transactions_model['failed_pred'] = df_failed_pred['failed_pred'].round()\n",
    "failed_transactions_model['time'] = transactions_1['time']\n",
    "failed_transactions_model"
   ]
  },
  {
   "cell_type": "code",
   "execution_count": null,
   "metadata": {
    "id": "I7TVGcHbJdYZ"
   },
   "outputs": [],
   "source": [
    "# Filter the data to only show the time and failed transactions > 0 (Upper face of the BoxPlot)\n",
    "filter_failed = failed_transactions_model['failed'] > 0\n",
    "\n",
    "filtered_results_failed = failed_transactions_model.loc[filter_failed]\n",
    "\n",
    "filtered_results_failed[['time','failed','failed_pred']]"
   ]
  },
  {
   "cell_type": "code",
   "execution_count": null,
   "metadata": {
    "id": "nQuN5rNfJ716"
   },
   "outputs": [],
   "source": [
    "#Getting the most important coefficients\n",
    "coefficients_failed = model_failed.coef_\n",
    "#coefficients_reversed\n",
    "# Create an empty DataFrame to store the coefficients\n",
    "df_coefficients_failed = pd.DataFrame(columns=['Feature', 'Coefficient'])\n",
    "\n",
    "# Get the list of column names from the original DataFrame\n",
    "\n",
    "lista_colunas_failed = failed_transactions_model.columns.tolist()\n",
    "lista_colunas_failed.remove('failed')\n",
    "lista_colunas_failed.remove('failed_pred')\n",
    "lista_colunas_failed.remove('time')\n",
    " #Iterate through the columns and their corresponding coefficients\n",
    "for i, col_name in enumerate(lista_colunas_failed):\n",
    "    coefficient = coefficients_failed[i]\n",
    "    df_coefficients_failed = df_coefficients_failed.append({'Feature': col_name, 'Coefficient': coefficient}, ignore_index=True)"
   ]
  },
  {
   "cell_type": "code",
   "execution_count": null,
   "metadata": {
    "id": "ac8QWABSv1S8"
   },
   "outputs": [],
   "source": [
    "#Showing the most importants variables with the coefficients\n",
    "selected_rows_failed = df_coefficients_failed[df_coefficients_failed['Feature'].isin(['reversed', 'denied', 'approved', 'refunded', 'processing', 'backend_reversed'])].sort_values(by='Coefficient',ascending=False)\n",
    "selected_rows_failed"
   ]
  },
  {
   "cell_type": "markdown",
   "metadata": {
    "id": "_FeCapameHZ_"
   },
   "source": [
    "# Reversed Transacitons Model (1)"
   ]
  },
  {
   "cell_type": "code",
   "execution_count": null,
   "metadata": {
    "id": "lfnwP1SrdO-T"
   },
   "outputs": [],
   "source": [
    "reversed_transactions_model = general_transactions_model.copy()\n",
    "\n",
    "# Split the data into train and test sets\n",
    "X_reversed = reversed_transactions_model.drop(columns=['reversed'])\n",
    "y_reversed = reversed_transactions_model['reversed']\n",
    "X_train_II, X_test_II, y_train_II, y_test_II = train_test_split(X_reversed, y_reversed, test_size=0.25, random_state=42)\n",
    "# Create the linear regression model\n",
    "model_reversed = LinearRegression()\n",
    "# Fit the model to the training data\n",
    "model_reversed.fit(X_train_II, y_train_II)"
   ]
  },
  {
   "cell_type": "code",
   "execution_count": null,
   "metadata": {
    "id": "lE2SpJ9NdO71"
   },
   "outputs": [],
   "source": [
    "# Make predictions on the test data\n",
    "y_reversed_pred = model_reversed.predict(X_reversed)\n",
    "y_reversed_pred"
   ]
  },
  {
   "cell_type": "code",
   "execution_count": null,
   "metadata": {
    "id": "9EvQCtXcdO5j"
   },
   "outputs": [],
   "source": [
    "# Create a DataFrame of the predicted values\n",
    "df_reversed_pred = pd.DataFrame({'reversed_pred': y_reversed_pred})\n",
    "df_reversed_pred"
   ]
  },
  {
   "cell_type": "code",
   "execution_count": null,
   "metadata": {
    "id": "ZIfWfXNvdOvV"
   },
   "outputs": [],
   "source": [
    "# Add the predicted values to the original DataFrame\n",
    "reversed_transactions_model['reversed_pred'] = df_reversed_pred['reversed_pred'].round()\n",
    "reversed_transactions_model['time'] = transactions_1['time']\n",
    "reversed_transactions_model"
   ]
  },
  {
   "cell_type": "code",
   "execution_count": null,
   "metadata": {
    "id": "hFx0QXwmdOr8"
   },
   "outputs": [],
   "source": [
    "# Filter the data to only show the time and reversed transactions > 7 (Upper face of the BoxPlot)\n",
    "filter_reversed = reversed_transactions_model['reversed'] > 7\n",
    "\n",
    "filtered_results_reversed = reversed_transactions_model.loc[filter_reversed]\n",
    "\n",
    "filtered_results_reversed[['time','reversed','reversed_pred']]"
   ]
  },
  {
   "cell_type": "code",
   "execution_count": null,
   "metadata": {
    "id": "62L7tDuRdOo0"
   },
   "outputs": [],
   "source": [
    "#Getting the most important coefficients\n",
    "coefficients_reversed = model_reversed.coef_\n",
    "#coefficients_reversed\n",
    "# Create an empty DataFrame to store the coefficients\n",
    "df_coefficients_reversed = pd.DataFrame(columns=['Feature', 'Coefficient'])\n",
    "\n",
    "# Get the list of column names from the original DataFrame\n",
    "\n",
    "lista_colunas_reversed = reversed_transactions_model.columns.tolist()\n",
    "lista_colunas_reversed.remove('reversed')\n",
    "lista_colunas_reversed.remove('reversed_pred')\n",
    "lista_colunas_reversed.remove('time')\n",
    " #Iterate through the columns and their corresponding coefficients\n",
    "for i, col_name in enumerate(lista_colunas_reversed):\n",
    "    coefficient = coefficients_reversed[i]\n",
    "    df_coefficients_reversed = df_coefficients_reversed.append({'Feature': col_name, 'Coefficient': coefficient}, ignore_index=True)"
   ]
  },
  {
   "cell_type": "code",
   "execution_count": null,
   "metadata": {
    "id": "CbBtQb1Rs2hE"
   },
   "outputs": [],
   "source": [
    "#Showing the most importants variables\n",
    "selected_rows_reversed = df_coefficients_reversed[df_coefficients_reversed['Feature'].isin(['failed', 'denied', 'approved', 'refunded', 'processing', 'backend_reversed'])].sort_values(by='Coefficient',ascending=False)\n",
    "selected_rows_reversed"
   ]
  },
  {
   "cell_type": "markdown",
   "metadata": {
    "id": "gXyCIgAqwlJn"
   },
   "source": [
    "# Denied Transacitons Model (1)"
   ]
  },
  {
   "cell_type": "code",
   "execution_count": null,
   "metadata": {
    "id": "gDijiq8BwrRO"
   },
   "outputs": [],
   "source": [
    "denied_transactions_model = general_transactions_model.copy()\n",
    "\n",
    "# Split the data into train and test sets\n",
    "X_denied = denied_transactions_model.drop(columns=['denied'])\n",
    "y_denied = denied_transactions_model['denied']\n",
    "X_train_III, X_test_III, y_train_III, y_test_III = train_test_split(X_denied, y_denied, test_size=0.25, random_state=42)\n",
    "# Create the linear regression model\n",
    "model_denied = LinearRegression()\n",
    "# Fit the model to the training data\n",
    "model_denied.fit(X_train_III, y_train_III)"
   ]
  },
  {
   "cell_type": "code",
   "execution_count": null,
   "metadata": {
    "id": "qq8D-84-w1ww"
   },
   "outputs": [],
   "source": [
    "# Make predictions on the test data\n",
    "y_denied_pred = model_denied.predict(X_denied)\n",
    "y_denied_pred"
   ]
  },
  {
   "cell_type": "code",
   "execution_count": null,
   "metadata": {
    "id": "KLrRSofgw1ud"
   },
   "outputs": [],
   "source": [
    "# Create a DataFrame of the predicted values\n",
    "df_denied_pred = pd.DataFrame({'denied_pred': y_denied_pred})\n",
    "df_denied_pred"
   ]
  },
  {
   "cell_type": "code",
   "execution_count": null,
   "metadata": {
    "id": "uujtCBHaw1r7"
   },
   "outputs": [],
   "source": [
    "# Add the predicted values to the original DataFrame\n",
    "denied_transactions_model['denied_pred'] = df_denied_pred['denied_pred'].round()\n",
    "denied_transactions_model['time'] = transactions_1['time']\n",
    "denied_transactions_model"
   ]
  },
  {
   "cell_type": "code",
   "execution_count": null,
   "metadata": {
    "id": "KD3gP02iw1pY"
   },
   "outputs": [],
   "source": [
    "# Filter the data to only show the time and reversed transactions > 68 (Upper face of the BoxPlot)\n",
    "\n",
    "filter_denied = denied_transactions_model['denied'] > 68\n",
    "\n",
    "filtered_results_denied = denied_transactions_model.loc[filter_denied]\n",
    "\n",
    "filtered_results_denied[['time','denied','denied_pred']]\n"
   ]
  },
  {
   "cell_type": "code",
   "execution_count": null,
   "metadata": {
    "id": "Uqlv_nCIGjm7"
   },
   "outputs": [],
   "source": [
    "#Getting the most important coefficients\n",
    "coefficients_denied = model_denied.coef_\n",
    "coefficients_denied\n",
    "# Create an empty DataFrame to store the coefficients\n",
    "df_coefficients_denied = pd.DataFrame(columns=['Feature', 'Coefficient'])\n",
    "\n",
    "# Get the list of column names from the original DataFrame\n",
    "lista_colunas_denied = denied_transactions_model.columns.tolist()\n",
    "lista_colunas_denied.remove('denied')\n",
    "lista_colunas_denied.remove('denied_pred')\n",
    "lista_colunas_denied.remove('time')\n",
    "# Iterate through the columns and their corresponding coefficients\n",
    "for i, col_name in enumerate(lista_colunas_denied):\n",
    "    coefficient = coefficients_denied[i]\n",
    "    df_coefficients_denied = df_coefficients_denied.append({'Feature': col_name, 'Coefficient': coefficient}, ignore_index=True)\n"
   ]
  },
  {
   "cell_type": "code",
   "execution_count": null,
   "metadata": {
    "id": "CozzABuvgz4h"
   },
   "outputs": [],
   "source": [
    "#Showing the most importants variables\n",
    "selected_rows_denied = df_coefficients_denied[df_coefficients_denied['Feature'].isin(['failed', 'reversed', 'approved', 'refunded', 'processing', 'backend_reversed'])].sort_values(by='Coefficient',ascending=False)\n",
    "selected_rows_denied\n",
    "\n"
   ]
  },
  {
   "cell_type": "markdown",
   "metadata": {
    "id": "0X9nkIn9Btrd"
   },
   "source": [
    "# Marge Failed, Reversed and Denied Transactions 1"
   ]
  },
  {
   "cell_type": "code",
   "execution_count": null,
   "metadata": {
    "id": "UGbqIohtB3H5"
   },
   "outputs": [],
   "source": [
    "# Create a list of the columns you want to bring to the resulting DataFrame\n",
    "columns = [\"time\", \"failed\", \"failed_pred\", \"reversed\", \"reversed_pred\", \"denied\", \"denied_pred\"]\n",
    "\n",
    "# Combine the DataFrames\n",
    "merge_transactions = failed_transactions_model.merge(reversed_transactions_model, on=\"time\").merge(denied_transactions_model, on=\"time\")\n",
    "\n",
    "# Keep only the columns specified in the columns list\n",
    "merge_transactions = merge_transactions[columns]"
   ]
  },
  {
   "cell_type": "code",
   "execution_count": null,
   "metadata": {
    "id": "o-CyfYStFhOt"
   },
   "outputs": [],
   "source": [
    "merge_transactions"
   ]
  },
  {
   "cell_type": "markdown",
   "metadata": {
    "id": "88-gTGgzWPFi"
   },
   "source": [
    "# Alerts Transactions 1"
   ]
  },
  {
   "cell_type": "code",
   "execution_count": null,
   "metadata": {
    "id": "HrQQgum8benP"
   },
   "outputs": [],
   "source": [
    "  # Failed Alert\n",
    "\n",
    "#  desired_column = \"failed\"\n",
    "#  specified_value = 0 #UpperFace Boxplot\n",
    "\n",
    "  # Twilio settings\n",
    "#  account_sid = \"your_account_sid\"\n",
    "#  auth_token = \"your_auth_token\"\n",
    "#  client = Client(account_sid, auth_token)\n",
    "#  merge_transactions_alert = merge_transactions.copy()\n",
    "#  while True:\n",
    "      # Iterate over the values in the column\n",
    "#      for value in merge_transactions_alert[desired_column]:\n",
    "#          if value > specified_value:\n",
    "              # Send an SMS alert (using Twilio)\n",
    "#              message = client.messages.create(\n",
    "#                  body=f\"Failed transaction alert, above expected value. Value: {value}\",\n",
    "#                  from_=\"your_twilio_number\",\n",
    "#                  to=\"recipient_number\"\n",
    "#              )\n",
    "\n",
    "      # Set a checking interval (e.g., every 2 minutes)\n",
    "      # You can adjust the checking interval as needed\n",
    "#      time.sleep(120)"
   ]
  },
  {
   "cell_type": "code",
   "execution_count": null,
   "metadata": {
    "id": "MYTKqAPCHtht"
   },
   "outputs": [],
   "source": [
    "  #Reversed Alert\n",
    "\n",
    "#  desired_column = \"reversed\"\n",
    "#  specified_value = 0 #UpperFace Boxplot\n",
    "\n",
    "  # Twilio settings\n",
    "#  account_sid = \"your_account_sid\"\n",
    "#  auth_token = \"your_auth_token\"\n",
    "#  client = Client(account_sid, auth_token)\n",
    "#  merge_transactions_alert = merge_transactions.copy()\n",
    "#  while True:\n",
    "      # Iterate over the values in the column\n",
    "#      for value in merge_transactions_alert[desired_column]:\n",
    "#          if value > specified_value:\n",
    "              # Send an SMS alert (using Twilio)\n",
    "#              message = client.messages.create(\n",
    "#                  body=f\"Reversed transaction alert, above expected value. Value: {value}\",\n",
    "#                  from_=\"your_twilio_number\",\n",
    "#                  to=\"recipient_number\"\n",
    "#              )\n",
    "\n",
    "      # Set a checking interval (e.g., every 2 minutes)\n",
    "      # You can adjust the checking interval as needed\n",
    "#      time.sleep(120)"
   ]
  },
  {
   "cell_type": "code",
   "execution_count": null,
   "metadata": {
    "id": "y1hgBkn-jDfz"
   },
   "outputs": [],
   "source": [
    "  #Denied Alert\n",
    "\n",
    "#  desired_column = \"denied\"\n",
    "#  specified_value = 0 #UpperFace Boxplot\n",
    "\n",
    "  # Twilio settings\n",
    "#  account_sid = \"your_account_sid\"\n",
    "#  auth_token = \"your_auth_token\"\n",
    "#  client = Client(account_sid, auth_token)\n",
    "#  merge_transactions_alert = merge_transactions.copy()\n",
    "#  while True:\n",
    "      # Iterate over the values in the column\n",
    "#      for value in merge_transactions_alert[desired_column]:\n",
    "#          if value > specified_value:\n",
    "              # Send an SMS alert (using Twilio)\n",
    "#              message = client.messages.create(\n",
    "#                  body=f\"Reversed transaction alert, above expected value. Value: {value}\",\n",
    "#                  from_=\"your_twilio_number\",\n",
    "#                  to=\"recipient_number\"\n",
    "#              )\n",
    "\n",
    "      # Set a checking interval (e.g., every 2 minutes)\n",
    "      # You can adjust the checking interval as needed\n",
    "#      time.sleep(120)"
   ]
  },
  {
   "cell_type": "markdown",
   "metadata": {
    "id": "CXlq4okTjq_b"
   },
   "source": [
    "# Introduction transactions 2"
   ]
  },
  {
   "cell_type": "markdown",
   "metadata": {
    "id": "7vTxO-slkTiT"
   },
   "source": [
    "**First, an SQL query was executed to manipulate the data in a way that would make it easier to work with. PIVOT was used to pivot the variables 'approved,' 'failed,' 'denied,' 'reversed,' 'refunded,' 'processing,' 'backend_reversed' as columns alongside 'time'.**"
   ]
  },
  {
   "cell_type": "code",
   "execution_count": null,
   "metadata": {
    "id": "xFcHR-TKkZto"
   },
   "outputs": [],
   "source": [
    "# Creating the dataframe\n",
    "transactions_2 = pd.read_csv(\"DataSet/transactions_2_pivot.csv\")"
   ]
  },
  {
   "cell_type": "code",
   "execution_count": null,
   "metadata": {
    "id": "0st7d14VktKc"
   },
   "outputs": [],
   "source": [
    "#Preview\n",
    "transactions_2.head()"
   ]
  },
  {
   "cell_type": "markdown",
   "metadata": {
    "id": "TQu4CpnDk1VE"
   },
   "source": [
    "# Data Transformation Transactions 2"
   ]
  },
  {
   "cell_type": "markdown",
   "metadata": {
    "id": "lMkaXCgok7lr"
   },
   "source": [
    "**Transforming null values ​into 0 to better manipulate the data**"
   ]
  },
  {
   "cell_type": "code",
   "execution_count": null,
   "metadata": {
    "id": "bFG6klhvk5I4"
   },
   "outputs": [],
   "source": [
    "# Replace all null values with 0\n",
    "transactions_2.fillna(0, inplace=True)"
   ]
  },
  {
   "cell_type": "code",
   "execution_count": null,
   "metadata": {
    "id": "1Lixox_Zk__S"
   },
   "outputs": [],
   "source": [
    "# Preview Transactions 2\n",
    "transactions_2.head(5)\n"
   ]
  },
  {
   "cell_type": "markdown",
   "metadata": {
    "id": "1JfeT5ShlPLV"
   },
   "source": [
    "# Data Information Transactions 2"
   ]
  },
  {
   "cell_type": "code",
   "execution_count": null,
   "metadata": {
    "id": "Jp-5zPYmlRI1"
   },
   "outputs": [],
   "source": [
    "# Transactions 2 infos\n",
    "transactions_2.info()"
   ]
  },
  {
   "cell_type": "code",
   "execution_count": null,
   "metadata": {
    "id": "mOTG4E4HlcmQ"
   },
   "outputs": [],
   "source": [
    "transactions_2.describe()"
   ]
  },
  {
   "cell_type": "markdown",
   "metadata": {
    "id": "yGCpNVM_lkCp"
   },
   "source": [
    "# First Analyzes Transactions 2 (boxplots)"
   ]
  },
  {
   "cell_type": "markdown",
   "metadata": {
    "id": "z90-4kF3ly0U"
   },
   "source": [
    "**Plotting the main variables for better understanding of the transactions 2 data**"
   ]
  },
  {
   "cell_type": "code",
   "execution_count": null,
   "metadata": {
    "id": "6rtRCgU5lrrX"
   },
   "outputs": [],
   "source": [
    "# Create a boxplot using Plotly Express with 'failed' as the x-axis and hover data for 'failed'\n",
    "fig = px.box(transactions_2, x='failed', hover_data=['failed'])\n",
    "\n",
    "# Chart layout settings\n",
    "fig.update_layout(\n",
    "    title=\"Interactive Boxplot of failed transactions\",\n",
    "    yaxis_title=\"Values of failed\"\n",
    ")\n",
    "\n",
    "# Display the interactive chart\n",
    "fig.show()"
   ]
  },
  {
   "cell_type": "markdown",
   "metadata": {
    "id": "AMKT6ay6l7Jg"
   },
   "source": [
    "**Failed transactions 2 --> Upper fence = 0**"
   ]
  },
  {
   "cell_type": "code",
   "execution_count": null,
   "metadata": {
    "id": "6POKyF1Il4QK"
   },
   "outputs": [],
   "source": [
    "# Create an interactive boxplot using Plotly Express with 'denied' as the x-axis and hover data for 'denied'\n",
    "fig = px.box(transactions_2, x='reversed', hover_data=['denied'])\n",
    "\n",
    "# Chart layout settings\n",
    "fig.update_layout(\n",
    "    title=\"Interactive Boxplot of reversed transactions\",\n",
    "    yaxis_title=\"Values of reversed\"\n",
    ")\n",
    "\n",
    "# Display the interactive chart\n",
    "fig.show()"
   ]
  },
  {
   "cell_type": "markdown",
   "metadata": {
    "id": "feqtVl4Yl9Tr"
   },
   "source": [
    "**Reversed transactions 2 --> Upper fence = 5**"
   ]
  },
  {
   "cell_type": "code",
   "execution_count": null,
   "metadata": {
    "id": "XUbUUeaSl4oe"
   },
   "outputs": [],
   "source": [
    "# Create an interactive boxplot using Plotly Express with 'reversed' as the x-axis and hover data for 'reversed'\n",
    "fig = px.box(transactions_1, x='denied', hover_data=['denied'])\n",
    "\n",
    "# Chart layout settings\n",
    "fig.update_layout(\n",
    "    title=\"Interactive Boxplot of Deneid Transactions\",\n",
    "    yaxis_title=\"Values of denied'\"\n",
    ")\n",
    "\n",
    "# Display the interactive chart\n",
    "fig.show()"
   ]
  },
  {
   "cell_type": "markdown",
   "metadata": {
    "id": "K8vEL1Iel92I"
   },
   "source": [
    "**Denied transactions 2 --> Upper fence = 75**"
   ]
  },
  {
   "cell_type": "markdown",
   "metadata": {
    "id": "pt9Krwhfl-Lq"
   },
   "source": [
    "# Preparing the models Transactions 2"
   ]
  },
  {
   "cell_type": "markdown",
   "metadata": {
    "id": "6YHUgHEZnYDe"
   },
   "source": [
    "**Turning the time variable of the transaction_2 dataframe into dummies so that they stop being objects and have an influence on the application of the model and also scale other data.**"
   ]
  },
  {
   "cell_type": "code",
   "execution_count": null,
   "metadata": {
    "id": "AH34c9_PnbRO"
   },
   "outputs": [],
   "source": [
    "#Preparing the data for the models\n",
    "\n",
    "# Get the categorical columns\n",
    "categorical_columns_failed  = ['time']\n",
    "# Convert the categorical columns to dummy variables\n",
    "general_transactions_model = pd.get_dummies(transactions_2, 'time')\n",
    "# Get the columns to scale\n",
    "columns_to_scale_failed  = [column for column in general_transactions_model.columns if column not in categorical_columns_failed]\n",
    "# Scale the data\n",
    "data_scaler_failed  = general_transactions_model[columns_to_scale_failed]\n",
    "scaler_failed = StandardScaler().fit(data_scaler_failed)"
   ]
  },
  {
   "cell_type": "markdown",
   "metadata": {
    "id": "FNH9g4lZn_RW"
   },
   "source": [
    "# Failed Transacitons Model (2)"
   ]
  },
  {
   "cell_type": "code",
   "execution_count": null,
   "metadata": {
    "id": "4Ki58geLoFmg"
   },
   "outputs": [],
   "source": [
    "failed_transactions_model = general_transactions_model.copy()\n",
    "\n",
    "# Split the data into train and test sets\n",
    "X_failed = failed_transactions_model.drop(columns=['failed'])\n",
    "y_failed = failed_transactions_model['failed']\n",
    "X_train, X_test, y_train, y_test = train_test_split(X_failed, y_failed, test_size=0.25, random_state=42)\n",
    "# Create the linear regression model\n",
    "model_failed = LinearRegression()\n",
    "# Fit the model to the training data\n",
    "model_failed.fit(X_train, y_train)"
   ]
  },
  {
   "cell_type": "code",
   "execution_count": null,
   "metadata": {
    "id": "lo5kJU5QoQ6R"
   },
   "outputs": [],
   "source": [
    "# Make predictions on the test data\n",
    "y_failed_pred = model_failed.predict(X_failed)\n",
    "y_failed_pred"
   ]
  },
  {
   "cell_type": "code",
   "execution_count": null,
   "metadata": {
    "id": "CMNP45bGoRuR"
   },
   "outputs": [],
   "source": [
    "# Create a DataFrame of the predicted values\n",
    "df_failed_pred = pd.DataFrame({'failed_pred': y_failed_pred})\n",
    "df_failed_pred"
   ]
  },
  {
   "cell_type": "code",
   "execution_count": null,
   "metadata": {
    "id": "l18mzgGtoRky"
   },
   "outputs": [],
   "source": [
    "# Add the predicted values to the original DataFrame\n",
    "failed_transactions_model['failed_pred'] = df_failed_pred['failed_pred'].round()\n",
    "failed_transactions_model['time'] = transactions_1['time']\n",
    "failed_transactions_model"
   ]
  },
  {
   "cell_type": "code",
   "execution_count": null,
   "metadata": {
    "id": "tOImRdldoRVw"
   },
   "outputs": [],
   "source": [
    "# Filter the data to only show the time and failed transactions > 0 (Upper face of the BoxPlot)\n",
    "filter_failed = failed_transactions_model['failed'] > 0\n",
    "\n",
    "filtered_results_failed = failed_transactions_model.loc[filter_failed]\n",
    "\n",
    "filtered_results_failed[['time','failed','failed_pred']]"
   ]
  },
  {
   "cell_type": "code",
   "execution_count": null,
   "metadata": {
    "id": "Oi9669rOoXYY"
   },
   "outputs": [],
   "source": [
    "#Getting the most important coefficients\n",
    "coefficients_failed = model_failed.coef_\n",
    "#coefficients_reversed\n",
    "# Create an empty DataFrame to store the coefficients\n",
    "df_coefficients_failed = pd.DataFrame(columns=['Feature', 'Coefficient'])\n",
    "\n",
    "# Get the list of column names from the original DataFrame\n",
    "\n",
    "lista_colunas_failed = failed_transactions_model.columns.tolist()\n",
    "lista_colunas_failed.remove('failed')\n",
    "lista_colunas_failed.remove('failed_pred')\n",
    "lista_colunas_failed.remove('time')\n",
    " #Iterate through the columns and their corresponding coefficients\n",
    "for i, col_name in enumerate(lista_colunas_failed):\n",
    "    coefficient = coefficients_failed[i]\n",
    "    df_coefficients_failed = df_coefficients_failed.append({'Feature': col_name, 'Coefficient': coefficient}, ignore_index=True)"
   ]
  },
  {
   "cell_type": "code",
   "execution_count": null,
   "metadata": {
    "id": "UR7z2131obEA"
   },
   "outputs": [],
   "source": [
    "#Showing the most importants variables with the coefficients\n",
    "selected_rows_failed = df_coefficients_failed[df_coefficients_failed['Feature'].isin(['reversed', 'denied', 'approved', 'refunded', 'processing', 'backend_reversed'])].sort_values(by='Coefficient',ascending=False)\n",
    "selected_rows_failed"
   ]
  },
  {
   "cell_type": "markdown",
   "metadata": {
    "id": "CeyLMzkdocC7"
   },
   "source": [
    "# Reversed Transacitons Model (2)"
   ]
  },
  {
   "cell_type": "code",
   "execution_count": null,
   "metadata": {
    "id": "8YrYb8ucogRU"
   },
   "outputs": [],
   "source": [
    "reversed_transactions_model = general_transactions_model.copy()\n",
    "\n",
    "# Split the data into train and test sets\n",
    "X_reversed = reversed_transactions_model.drop(columns=['reversed'])\n",
    "y_reversed = reversed_transactions_model['reversed']\n",
    "X_train_II, X_test_II, y_train_II, y_test_II = train_test_split(X_reversed, y_reversed, test_size=0.25, random_state=42)\n",
    "# Create the linear regression model\n",
    "model_reversed = LinearRegression()\n",
    "# Fit the model to the training data\n",
    "model_reversed.fit(X_train_II, y_train_II)"
   ]
  },
  {
   "cell_type": "code",
   "execution_count": null,
   "metadata": {
    "id": "6n8HVu_vpHMN"
   },
   "outputs": [],
   "source": [
    "# Make predictions on the test data\n",
    "y_reversed_pred = model_reversed.predict(X_reversed)\n",
    "y_reversed_pred"
   ]
  },
  {
   "cell_type": "code",
   "execution_count": null,
   "metadata": {
    "id": "lvmnOEpgpHGQ"
   },
   "outputs": [],
   "source": [
    "# Create a DataFrame of the predicted values\n",
    "df_reversed_pred = pd.DataFrame({'reversed_pred': y_reversed_pred})\n",
    "df_reversed_pred"
   ]
  },
  {
   "cell_type": "code",
   "execution_count": null,
   "metadata": {
    "id": "A8Fpx8nopG_V"
   },
   "outputs": [],
   "source": [
    "# Add the predicted values to the original DataFrame\n",
    "reversed_transactions_model['reversed_pred'] = df_reversed_pred['reversed_pred'].round()\n",
    "reversed_transactions_model['time'] = transactions_1['time']\n",
    "reversed_transactions_model"
   ]
  },
  {
   "cell_type": "code",
   "execution_count": null,
   "metadata": {
    "id": "SMH7tSzEpG2_"
   },
   "outputs": [],
   "source": [
    "# Filter the data to only show the time and reversed transactions > 5 (Upper face of the BoxPlot)\n",
    "filter_reversed = reversed_transactions_model['reversed'] > 5\n",
    "\n",
    "filtered_results_reversed = reversed_transactions_model.loc[filter_reversed]\n",
    "\n",
    "filtered_results_reversed[['time','reversed','reversed_pred']]"
   ]
  },
  {
   "cell_type": "code",
   "execution_count": null,
   "metadata": {
    "id": "ZMs8VkA4pGsz"
   },
   "outputs": [],
   "source": [
    "#Getting the most important coefficients\n",
    "coefficients_reversed = model_reversed.coef_\n",
    "#coefficients_reversed\n",
    "# Create an empty DataFrame to store the coefficients\n",
    "df_coefficients_reversed = pd.DataFrame(columns=['Feature', 'Coefficient'])\n",
    "\n",
    "# Get the list of column names from the original DataFrame\n",
    "\n",
    "lista_colunas_reversed = reversed_transactions_model.columns.tolist()\n",
    "lista_colunas_reversed.remove('reversed')\n",
    "lista_colunas_reversed.remove('reversed_pred')\n",
    "lista_colunas_reversed.remove('time')\n",
    " #Iterate through the columns and their corresponding coefficients\n",
    "for i, col_name in enumerate(lista_colunas_reversed):\n",
    "    coefficient = coefficients_reversed[i]\n",
    "    df_coefficients_reversed = df_coefficients_reversed.append({'Feature': col_name, 'Coefficient': coefficient}, ignore_index=True)"
   ]
  },
  {
   "cell_type": "code",
   "execution_count": null,
   "metadata": {
    "id": "MfmHqRx-pGeA"
   },
   "outputs": [],
   "source": [
    "#Showing the most importants variables\n",
    "selected_rows_reversed = df_coefficients_reversed[df_coefficients_reversed['Feature'].isin(['failed', 'denied', 'approved', 'refunded', 'processing', 'backend_reversed'])].sort_values(by='Coefficient',ascending=False)\n",
    "selected_rows_reversed"
   ]
  },
  {
   "cell_type": "markdown",
   "metadata": {
    "id": "RT7we9IPpXzo"
   },
   "source": [
    "# Denied Transacitons Model (2)"
   ]
  },
  {
   "cell_type": "code",
   "execution_count": null,
   "metadata": {
    "id": "AA08TVmypeCG"
   },
   "outputs": [],
   "source": [
    "denied_transactions_model = general_transactions_model.copy()\n",
    "\n",
    "# Split the data into train and test sets\n",
    "X_denied = denied_transactions_model.drop(columns=['denied'])\n",
    "y_denied = denied_transactions_model['denied']\n",
    "X_train_III, X_test_III, y_train_III, y_test_III = train_test_split(X_denied, y_denied, test_size=0.25, random_state=42)\n",
    "# Create the linear regression model\n",
    "model_denied = LinearRegression()\n",
    "# Fit the model to the training data\n",
    "model_denied.fit(X_train_III, y_train_III)"
   ]
  },
  {
   "cell_type": "code",
   "execution_count": null,
   "metadata": {
    "id": "8fb0z7o7pe4i"
   },
   "outputs": [],
   "source": [
    "# Make predictions on the test data\n",
    "y_denied_pred = model_denied.predict(X_denied)\n",
    "y_denied_pred"
   ]
  },
  {
   "cell_type": "code",
   "execution_count": null,
   "metadata": {
    "id": "2lFvw1GYpeyU"
   },
   "outputs": [],
   "source": [
    "# Create a DataFrame of the predicted values\n",
    "df_denied_pred = pd.DataFrame({'denied_pred': y_denied_pred})\n",
    "df_denied_pred"
   ]
  },
  {
   "cell_type": "code",
   "execution_count": null,
   "metadata": {
    "id": "f_Ie87DrperQ"
   },
   "outputs": [],
   "source": [
    "# Add the predicted values to the original DataFrame\n",
    "denied_transactions_model['denied_pred'] = df_denied_pred['denied_pred'].round()\n",
    "denied_transactions_model['time'] = transactions_1['time']\n",
    "denied_transactions_model"
   ]
  },
  {
   "cell_type": "code",
   "execution_count": null,
   "metadata": {
    "id": "48o2fLABpejX"
   },
   "outputs": [],
   "source": [
    "# Filter the data to only show the time and reversed transactions > 75 (Upper face of the BoxPlot)\n",
    "\n",
    "filter_denied = denied_transactions_model['denied'] > 75\n",
    "\n",
    "filtered_results_denied = denied_transactions_model.loc[filter_denied]\n",
    "\n",
    "filtered_results_denied[['time','denied','denied_pred']]"
   ]
  },
  {
   "cell_type": "code",
   "execution_count": null,
   "metadata": {
    "id": "TxyiPeVfpebh"
   },
   "outputs": [],
   "source": [
    "#Getting the most important coefficients\n",
    "coefficients_denied = model_denied.coef_\n",
    "coefficients_denied\n",
    "# Create an empty DataFrame to store the coefficients\n",
    "df_coefficients_denied = pd.DataFrame(columns=['Feature', 'Coefficient'])\n",
    "\n",
    "# Get the list of column names from the original DataFrame\n",
    "lista_colunas_denied = denied_transactions_model.columns.tolist()\n",
    "lista_colunas_denied.remove('denied')\n",
    "lista_colunas_denied.remove('denied_pred')\n",
    "lista_colunas_denied.remove('time')\n",
    "# Iterate through the columns and their corresponding coefficients\n",
    "for i, col_name in enumerate(lista_colunas_denied):\n",
    "    coefficient = coefficients_denied[i]\n",
    "    df_coefficients_denied = df_coefficients_denied.append({'Feature': col_name, 'Coefficient': coefficient}, ignore_index=True)"
   ]
  },
  {
   "cell_type": "code",
   "execution_count": null,
   "metadata": {
    "id": "oUspBzk0peTg"
   },
   "outputs": [],
   "source": [
    "#Showing the most importants variables\n",
    "selected_rows_denied = df_coefficients_denied[df_coefficients_denied['Feature'].isin(['failed', 'reversed', 'approved', 'refunded', 'processing', 'backend_reversed'])].sort_values(by='Coefficient',ascending=False)\n",
    "selected_rows_denied"
   ]
  },
  {
   "cell_type": "markdown",
   "metadata": {
    "id": "mQEKK93wtuzF"
   },
   "source": [
    "# Marge Failed, Reversed and Denied Transactions 2"
   ]
  },
  {
   "cell_type": "code",
   "execution_count": null,
   "metadata": {
    "id": "zU0VOpV1tvJj"
   },
   "outputs": [],
   "source": [
    "# Create a list of the columns you want to bring to the resulting DataFrame\n",
    "columns = [\"time\", \"failed\", \"failed_pred\", \"reversed\", \"reversed_pred\", \"denied\", \"denied_pred\"]\n",
    "\n",
    "# Combine the DataFrames\n",
    "merge_transactions = failed_transactions_model.merge(reversed_transactions_model, on=\"time\").merge(denied_transactions_model, on=\"time\")\n",
    "\n",
    "# Keep only the columns specified in the columns list\n",
    "merge_transactions = merge_transactions[columns]"
   ]
  },
  {
   "cell_type": "code",
   "execution_count": null,
   "metadata": {
    "id": "2JYTPfait2lL"
   },
   "outputs": [],
   "source": [
    "merge_transactions"
   ]
  },
  {
   "cell_type": "markdown",
   "metadata": {
    "id": "SLc6Y2L5t6dF"
   },
   "source": [
    "# Alerts Transactions 2"
   ]
  },
  {
   "cell_type": "code",
   "execution_count": null,
   "metadata": {
    "id": "JE0X3mtZt-0E"
   },
   "outputs": [],
   "source": [
    "  # Failed Alert\n",
    "\n",
    "#  desired_column = \"failed\"\n",
    "#  specified_value = 0 #UpperFace Boxplot\n",
    "\n",
    "  # Twilio settings\n",
    "#  account_sid = \"your_account_sid\"\n",
    "#  auth_token = \"your_auth_token\"\n",
    "#  client = Client(account_sid, auth_token)\n",
    "#  merge_transactions_alert = merge_transactions.copy()\n",
    "#  while True:\n",
    "      # Iterate over the values in the column\n",
    "#      for value in merge_transactions_alert[desired_column]:\n",
    "#          if value > specified_value:\n",
    "              # Send an SMS alert (using Twilio)\n",
    "#              message = client.messages.create(\n",
    "#                  body=f\"Failed transaction alert, above expected value. Value: {value}\",\n",
    "#                  from_=\"your_twilio_number\",\n",
    "#                  to=\"recipient_number\"\n",
    "#              )\n",
    "\n",
    "      # Set a checking interval (e.g., every 2 minutes)\n",
    "      # You can adjust the checking interval as needed\n",
    "#      time.sleep(120)"
   ]
  },
  {
   "cell_type": "code",
   "execution_count": null,
   "metadata": {
    "id": "XndaCWQpt_Hh"
   },
   "outputs": [],
   "source": [
    "  # Reversed Alert\n",
    "\n",
    "#  desired_column = \"reversed\"\n",
    "#  specified_value = 0 #UpperFace Boxplot\n",
    "\n",
    "  # Twilio settings\n",
    "#  account_sid = \"your_account_sid\"\n",
    "#  auth_token = \"your_auth_token\"\n",
    "#  client = Client(account_sid, auth_token)\n",
    "#  merge_transactions_alert = merge_transactions.copy()\n",
    "#  while True:\n",
    "      # Iterate over the values in the column\n",
    "#      for value in merge_transactions_alert[desired_column]:\n",
    "#          if value > specified_value:\n",
    "              # Send an SMS alert (using Twilio)\n",
    "#              message = client.messages.create(\n",
    "#                  body=f\"Reversed transaction alert, above expected value. Value: {value}\",\n",
    "#                  from_=\"your_twilio_number\",\n",
    "#                  to=\"recipient_number\"\n",
    "#              )\n",
    "\n",
    "      # Set a checking interval (e.g., every 2 minutes)\n",
    "      # You can adjust the checking interval as needed\n",
    "#      time.sleep(120)"
   ]
  },
  {
   "cell_type": "code",
   "execution_count": null,
   "metadata": {
    "id": "fCDgMVPDuATB"
   },
   "outputs": [],
   "source": [
    "  # Denied Alert\n",
    "\n",
    "#  desired_column = \"denied\"\n",
    "#  specified_value = 0 #UpperFace Boxplot\n",
    "\n",
    "  # Twilio settings\n",
    "#  account_sid = \"your_account_sid\"\n",
    "#  auth_token = \"your_auth_token\"\n",
    "#  client = Client(account_sid, auth_token)\n",
    "#  merge_transactions_alert = merge_transactions.copy()\n",
    "#  while True:\n",
    "      # Iterate over the values in the column\n",
    "#      for value in merge_transactions_alert[desired_column]:\n",
    "#          if value > specified_value:\n",
    "              # Send an SMS alert (using Twilio)\n",
    "#              message = client.messages.create(\n",
    "#                  body=f\"Denied transaction alert, above expected value. Value: {value}\",\n",
    "#                  from_=\"your_twilio_number\",\n",
    "#                  to=\"recipient_number\"\n",
    "#              )\n",
    "\n",
    "      # Set a checking interval (e.g., every 2 minutes)\n",
    "      # You can adjust the checking interval as needed\n",
    "#      time.sleep(120)"
   ]
  }
 ],
 "metadata": {
  "colab": {
   "collapsed_sections": [
    "SU8RrtkCKpJ4",
    "3aLqEoL7KmQJ",
    "rPKNhUN9RVtD",
    "vFBpo1HjSJZT",
    "OPUKAbSrUuO5",
    "zFY7dmzJWeuU",
    "_FeCapameHZ_",
    "gXyCIgAqwlJn",
    "0X9nkIn9Btrd",
    "88-gTGgzWPFi",
    "CXlq4okTjq_b",
    "TQu4CpnDk1VE",
    "1JfeT5ShlPLV",
    "yGCpNVM_lkCp",
    "pt9Krwhfl-Lq",
    "FNH9g4lZn_RW",
    "CeyLMzkdocC7",
    "RT7we9IPpXzo",
    "mQEKK93wtuzF",
    "SLc6Y2L5t6dF"
   ],
   "provenance": []
  },
  "kernelspec": {
   "display_name": "Python 3 (ipykernel)",
   "language": "python",
   "name": "python3"
  },
  "language_info": {
   "codemirror_mode": {
    "name": "ipython",
    "version": 3
   },
   "file_extension": ".py",
   "mimetype": "text/x-python",
   "name": "python",
   "nbconvert_exporter": "python",
   "pygments_lexer": "ipython3",
   "version": "3.9.13"
  }
 },
 "nbformat": 4,
 "nbformat_minor": 1
}
